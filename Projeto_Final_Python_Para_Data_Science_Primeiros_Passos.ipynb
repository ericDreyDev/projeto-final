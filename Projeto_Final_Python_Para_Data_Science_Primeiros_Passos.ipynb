{
  "nbformat": 4,
  "nbformat_minor": 0,
  "metadata": {
    "colab": {
      "provenance": []
    },
    "kernelspec": {
      "name": "python3",
      "display_name": "Python 3"
    },
    "language_info": {
      "name": "python"
    }
  },
  "cells": [
    {
      "cell_type": "code",
      "source": [
        "!pip install pandas\n"
      ],
      "metadata": {
        "colab": {
          "base_uri": "https://localhost:8080/"
        },
        "id": "RI46tSdDTCnq",
        "outputId": "4ad5da28-409c-42f2-842a-045d2f3985e7"
      },
      "execution_count": null,
      "outputs": [
        {
          "output_type": "stream",
          "name": "stdout",
          "text": [
            "Requirement already satisfied: pandas in /usr/local/lib/python3.10/dist-packages (2.2.2)\n",
            "Requirement already satisfied: numpy>=1.22.4 in /usr/local/lib/python3.10/dist-packages (from pandas) (1.26.4)\n",
            "Requirement already satisfied: python-dateutil>=2.8.2 in /usr/local/lib/python3.10/dist-packages (from pandas) (2.8.2)\n",
            "Requirement already satisfied: pytz>=2020.1 in /usr/local/lib/python3.10/dist-packages (from pandas) (2024.2)\n",
            "Requirement already satisfied: tzdata>=2022.7 in /usr/local/lib/python3.10/dist-packages (from pandas) (2024.2)\n",
            "Requirement already satisfied: six>=1.5 in /usr/local/lib/python3.10/dist-packages (from python-dateutil>=2.8.2->pandas) (1.16.0)\n"
          ]
        }
      ]
    },
    {
      "cell_type": "code",
      "execution_count": null,
      "metadata": {
        "id": "UWS8cxVmG78C"
      },
      "outputs": [],
      "source": [
        "import pandas as pd\n",
        "\n",
        "def cadastrar_estudante():\n",
        "    nome = input('Digite o nome do(a) estudante: ')\n",
        "    idade = int(input(f'Digite a idade do(a) estudante {nome}: '))\n",
        "    materias = ('Português', 'Matemática', 'Física', 'Química', 'Biologia', 'Geografia', 'História', 'Educação Física', 'Filosofia', 'Inglês')\n",
        "\n",
        "    # Inicializa cadastro do aluno como dicionário\n",
        "    cadastro_aluno = [{'nome': nome, 'idade': idade, 'notas': {}}]\n",
        "\n",
        "    # Coleta as notas para cada matéria\n",
        "    for materia in materias:\n",
        "        nota = float(input(f'Digite a nota do estudante em {materia}: '))\n",
        "        cadastro_aluno[0]['notas'][materia] = nota\n",
        "\n",
        "    # Calcula a média e adiciona ao cadastro\n",
        "    media = sum(cadastro_aluno[0]['notas'].values()) / len(materias)\n",
        "    cadastro_aluno[0]['media'] = media  # Adiciona a média ao dicionário\n",
        "\n",
        "    print('Estudante cadastrado com sucesso!')\n",
        "    return cadastro_aluno\n",
        "\n",
        "# Obter entrada do usuário\n",
        "nome_usuario = input('Digite seu nome de usuário: ')\n",
        "while nome_usuario == '':\n",
        "    nome_usuario = input('Digite seu nome de usuário: ')\n",
        "\n",
        "senha_usuario = input('Digite sua senha: ')\n",
        "\n",
        "print(f'SEJA BEM-VINDO AO SISTEMA DE GESTÃO DE ESTUDANTES, {nome_usuario}!')\n",
        "print('--------------------------------------------------------------------')\n",
        "print('Escolha o número correspondente à operação que deseja realizar:')\n",
        "print('1 - Cadastrar um estudante\\n2 - Listar estudantes cadastrados\\n3 - Filtrar estudantes com base na média\\n4 - Alterar dados de estudantes\\n5 - Remover Estudante\\n6 - Gerar relatório do estudante\\n')\n",
        "option = int(input())\n",
        "\n",
        "cadastro = []\n",
        "while option >= 1 and option <= 7:\n",
        "    # Menu de opções usando match-case\n",
        "    match option:\n",
        "        case 1:\n",
        "            print('Você escolheu cadastrar um novo estudante!')\n",
        "            print('---------------------------------------------------------------')\n",
        "            cadastro += cadastrar_estudante()\n",
        "        case 2:\n",
        "            print('Você escolheu listar os estudantes cadastrados!')\n",
        "            print('---------------------------------------------------------------')\n",
        "            dados = {\n",
        "                \"Nome\": [estudante['nome'] for estudante in cadastro],\n",
        "                \"Idade\": [estudante['idade'] for estudante in cadastro],\n",
        "                \"Notas\": [estudante['notas'] for estudante in cadastro],\n",
        "                \"Média\": [estudante['media'] for estudante in cadastro]\n",
        "            }\n",
        "            tabela = pd.DataFrame(dados)\n",
        "            print(tabela)\n",
        "    option = int(input())\n",
        "\n",
        "    # As demais opções podem ser adicionadas com novas funções\n"
      ]
    },
    {
      "cell_type": "markdown",
      "source": [
        "Aqui está um exercício final que engloba todos os conceitos que você mencionou:\n",
        "\n",
        "---\n",
        "\n",
        "**Projeto Final: Sistema de Gestão de Estudantes**\n",
        "\n",
        "Você deve criar um sistema de gerenciamento de estudantes em Python que permita realizar as seguintes operações:\n",
        "\n",
        "1. **Cadastrar novos estudantes**:\n",
        "   - O sistema deve permitir o cadastro de novos estudantes, coletando informações como nome, idade e notas em uma lista de matérias.\n",
        "   - Utilize estruturas de dados como listas, dicionários e tuplas para armazenar as informações.\n",
        "   \n",
        "2. **Listar todos os estudantes cadastrados**:\n",
        "   - Exibir as informações dos estudantes, incluindo as notas e a média.\n",
        "\n",
        "3. **Filtrar estudantes com base na média**:\n",
        "   - O sistema deve permitir que o usuário filtre estudantes que estão com média acima de um valor específico ou abaixo, usando estruturas condicionais.\n",
        "   - Utilize list comprehension para filtrar estudantes com base nas médias.\n",
        "\n",
        "4. **Alterar dados de estudantes**:\n",
        "   - Permitir a edição das informações de um estudante (como suas notas ou nome), utilizando estruturas de repetição para localizar o estudante específico.\n",
        "\n",
        "5. **Remover estudantes**:\n",
        "   - Implementar uma função que remova estudantes do sistema com base no nome, utilizando `try ... except` para lidar com possíveis erros (como o estudante não existir).\n",
        "\n",
        "6. **Exibir estudante com a maior e menor média**:\n",
        "   - Usar funções built-in como `max()` e `min()` para encontrar e exibir o estudante com a maior e menor média de notas.\n",
        "\n",
        "7. **Gerar relatório**:\n",
        "   - Criar uma função para gerar um relatório detalhado com as informações de todos os estudantes (nome, idade, notas, média).\n",
        "   - A função deve utilizar `zip()` para associar as matérias com as notas e `enumerate()` para numerar os estudantes.\n",
        "\n",
        "8. **Exceções**:\n",
        "   - Implementar tratamentos para erros como:\n",
        "     - `ValueError` ao tentar inserir uma idade não numérica.\n",
        "     - `KeyError` ao tentar acessar um estudante que não existe.\n",
        "     - `IndexError` ao tentar acessar uma matéria fora do índice da lista.\n",
        "\n",
        "9. **Funções Lambda**:\n",
        "   - Utilize funções lambda em algum momento para calcular a média das notas ou filtrar estudantes por algum critério específico.\n",
        "\n",
        "10. **Bibliotecas Externas**:\n",
        "    - Instale e utilize alguma biblioteca externa para melhorar o projeto (por exemplo, `pandas` para manipular os dados ou `prettytable` para exibir o relatório em uma tabela).\n",
        "\n",
        "---\n",
        "\n",
        "### Regras do Projeto:\n",
        "\n",
        "- **Estruturas Condicionais**: Use estruturas condicionais para verificar se o estudante foi aprovado (média >= 7) ou reprovado.\n",
        "- **Estruturas de Repetição**: Utilize loops para percorrer a lista de estudantes e realizar as operações (listar, remover, editar).\n",
        "- **Funções**: Crie funções bem documentadas para cada operação (cadastrar, listar, filtrar, etc.). Utilize `docstring` para explicar as funções e `type hint` para os parâmetros e retornos.\n",
        "- **List Comprehension**: Use list comprehension sempre que possível, especialmente para filtrar ou manipular dados.\n",
        "- **Dict Comprehension**: Ao exibir os estudantes, use dict comprehension para formatar a exibição de dados (por exemplo, exibindo a média e a situação de aprovação/reprovação).\n",
        "- **Exceções**: Trate erros comuns de entrada e saída com exceções e use cláusulas `else` e `finally` para complementar o tratamento.\n",
        "\n",
        "Esse exercício vai cobrir todos os conceitos que você aprendeu, desde condicionais até tratamento de exceções e uso de bibliotecas externas."
      ],
      "metadata": {
        "id": "AV_eHB18HGnm"
      }
    }
  ]
}